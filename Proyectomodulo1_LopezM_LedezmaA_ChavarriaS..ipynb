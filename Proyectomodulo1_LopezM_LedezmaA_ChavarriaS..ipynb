{
 "cells": [
  {
   "cell_type": "markdown",
   "id": "08356008-f892-409c-81f8-1938046f28a5",
   "metadata": {},
   "source": [
    "# Proyecto 1"
   ]
  },
  {
   "cell_type": "markdown",
   "id": "1fe90487-f1f6-43fd-8380-3e1b4fefbca0",
   "metadata": {},
   "source": [
    "##### Integrantes:\n",
    "\n",
    "##### Mauricio López Coronado\n",
    "\n",
    "##### Luis Alejandro Ledesma Mujica\n",
    "\n",
    "##### Santiago Chavarria Minakata"
   ]
  },
  {
   "cell_type": "markdown",
   "id": "e9dca84c-ccf0-4254-bdd3-7934a544c2c2",
   "metadata": {},
   "source": [
    "## Minimizar el costo de instalación de una tubería de agua potable.\r\n"
   ]
  },
  {
   "cell_type": "markdown",
   "id": "ff042e41-d9e0-44b6-99e1-d90046a3c935",
   "metadata": {},
   "source": [
    "### Objetivo general: \n",
    "- Minimizar los costos de instalación de una tubería teniendo en cuenta las nóminas de los trabajadores, personas contratadas, costo del material y maquinaria.\n"
   ]
  },
  {
   "cell_type": "markdown",
   "id": "62b1b25b-dfa2-44a3-b3df-057187800e38",
   "metadata": {},
   "source": [
    "### Objetivos específicos:\n",
    "- Plantear la ecuación de gasto, sus variables y restricciones según el plano de la colonia planteado.\r\n",
    "- \n",
    "Desarrollar un código de optimización para reducir costos de instalación.\n",
    "- \r\n",
    "Decidir la cantidad de personas para contratar para que el tiempo, el pago de nóminas y el desperdicio sea el menor posible.\r\n"
   ]
  },
  {
   "cell_type": "markdown",
   "id": "836553c9-115e-469a-a8d6-93a8341a6649",
   "metadata": {},
   "source": [
    "### Información del problema:\n",
    "\n",
    "Para este proyecto, se está realizando una urbanización en una colonia donde no tienen acceso al agua potable, (Rotoplas, 2020) es importante tener en cuenta que el gasto de las instalaciones de tuberías representan del 10-20% en instalaciones pequeñas y a gran escala pueden representar hasta el 40% del gasto total por lo que es importante usar la menor cantidad de tubo posible, el menor tiempo posible de la excavadora, y minimizar los costos de instalación para poder minimizar el costo de la instalación de este para poder maximizar las ganancias del proyecto.\r\n"
   ]
  },
  {
   "cell_type": "markdown",
   "id": "8c78daf3-eedb-4093-bb87-4b033c88047e",
   "metadata": {},
   "source": [
    "### Consideraciones:\n",
    "\n",
    "- Se usará el tubo de PVC, capaz de soportar una presión de 25 kg/cm2, de 100 mm de diámetro, con un longitud estándar de 5.95m.\n",
    "\n",
    "- Se tienen 3 proveedores y son los siguientes:\n",
    "\n",
    "- Termo plus - 8,400 pesos cada tubo, para aceptar la orden se deben pedir entre 60 y 70 tubos, esta es la cantidad válida para transportar por carretera los tubos, al exceder esta cantidad, debido a que el almacen se encuentra en Puebla, ya no es rentable debido al alto incremento de costos de transporte.\n",
    "\n",
    "- DepotMX - 10,396 pesos cada tubo, puede suministrar la cantidad que sea, tiene una promoción que se aplica si se compran mínimo 50 tubos pero máximo 75, el precio queda 3215 pesos.\n",
    "\n",
    "- ITSA - 10,234 pesos cada tubo y este es capaz de suministrar los tubos que sean necesarios.\n",
    "\n",
    "- Longitud total a usar 675.9 m.  \n",
    "\n",
    "- Del sistema de precios unitarios en México, se obtiene lo siguiente: \n",
    "\n",
    "- Para un maestro, el precio de mano de obra es de 110 pesos por hora.\n",
    "\n",
    "- Para un ayudante, el precio de mano de obra es de 50 pesos por hora.\n",
    "  \n",
    "- A la semana el mínimo de horas es de 40, el máximo de 48.\n",
    "\n",
    "- Se cuenta con 2 ayudantes y un maestro.\n",
    "\n",
    "- Se debe rentar una retroexcavadora, en base a un presupuesto obtenido a la constructora AB e Industrias LOSAL, la renta de una retroexcavadora CASE,  se encuentra a 500 por hora."
   ]
  },
  {
   "cell_type": "markdown",
   "id": "d7ae07a5-7bf2-4cf5-b53e-617d6cc1d65d",
   "metadata": {},
   "source": [
    "### Resumen:\n",
    "\n",
    "Proveedor 1 - $ 8400 y mínimo 60, máximo 70 tubos.\n",
    "\n",
    "Proveedor 2 - $ 3215 y minimo 50 tubos, máximo 75.\n",
    "\n",
    "Proveedor 3 - $ 10,234, mayor a 0\n",
    "\n",
    "Longitud total - 675.9 m\n",
    "\n",
    "Maestro - 110 pesos por hora.\n",
    "\n",
    "Ayudante - 50 pesos por hora.\n",
    "\n",
    "2 ayudantes y un maestro.\n",
    "\n",
    "Retroexcavadora 500 por hora.\n",
    "\n",
    "A la semana mínimo 40 horas, máximo 48 cada uno."
   ]
  },
  {
   "cell_type": "markdown",
   "id": "692b0453-e1d6-4c66-aff1-27994beafde4",
   "metadata": {},
   "source": [
    "### Modelo:\n"
   ]
  },
  {
   "cell_type": "markdown",
   "id": "ef10f007-be25-435a-9919-1cc4de845163",
   "metadata": {},
   "source": [
    "El problema planteado es una optimización y con esta se busca minimizar el costo total de la instalación de la tubería, incluyendo nóminas, costos de instalación y materiales."
   ]
  },
  {
   "cell_type": "markdown",
   "id": "8db7d181-b749-4883-98d7-8182fce52109",
   "metadata": {},
   "source": [
    "### Variables de control:\n",
    "\n",
    "$ m $ -- Maestro\n",
    "\n",
    "$ a $-- Ayudante\n",
    "\n",
    "$ t_1 $ -- tubo de proveedor 1\n",
    "\n",
    "$ t_2$ -- tubo de proveedor 2\n",
    "\n",
    "$ t_2$ -- tubo de proveedor 3\n",
    "\n",
    "$ r $ -- retroexcavadora\n",
    "\n"
   ]
  },
  {
   "cell_type": "markdown",
   "id": "bef1971b-b77a-4ce4-b3d8-44e06832b98e",
   "metadata": {},
   "source": [
    "### Función de costo\n",
    "\n",
    "$ f(m, a, t_1, t_2, t_3, r) = 110 m +  50 a + 8400 t_1 + 3215 t_2 + 10234 t_3 + 500 r $\n",
    "\n",
    "\n",
    "costo total = costo de materiales + costo de nómina + costo de renta de equipo o maquinaria "
   ]
  },
  {
   "cell_type": "markdown",
   "id": "aeb3f5c0-0422-4da1-bed0-f818fed3179c",
   "metadata": {},
   "source": [
    "### Restricciones\n"
   ]
  },
  {
   "cell_type": "raw",
   "id": "b0a168be-77c2-4ce7-81cb-f562accfb59c",
   "metadata": {},
   "source": [
    "Metros instalados por hora  \n",
    "\n",
    "\n",
    "se tiene un equipo de 1 maestro, 2 ayudantes\n",
    "\n",
    "Intervalo de horas a la semana\n",
    "\n",
    "maistro + ayudante + retro minimo 40 cada uno\n",
    "\n",
    "maistro + ayudante + retro maximo 48 cada uno\n",
    "\n",
    "Longitud de la tubería:\n",
    "suma 3 proveedores minimo 675.9 \n",
    "\n",
    "proveedor 1 \n",
    "minimo 40 tubos\n",
    "maximo 70\n",
    "\n",
    "proveedor 2\n",
    "mínimo 50 tubos\n",
    "maximo 75\n",
    "\n",
    "proveedor 3\n",
    "minimo 1 tubo\n",
    "\n",
    "\n",
    "\n",
    "\n",
    "\n"
   ]
  },
  {
   "cell_type": "markdown",
   "id": "2463cc8e-d9d3-4c7b-a88b-c4892c5f39ca",
   "metadata": {},
   "source": [
    "$$ \\min_{m, a, t_1, t_2, t_3, r} = 15 m + 10 a + 8400 t_1 + 3215 t_2 + 10234 t_3 + 500 r $$\n",
    "$$ s.t $$\n",
    "\n",
    "$$ t_1 \\geq 40 $$\n",
    "$$ t_1 \\leq 70 $$\n",
    "$$  t_2 \\geq 50 $$\n",
    "$$  t_2 \\leq 75 $$\n",
    "$$ t_3 \\geq 0 $$\n",
    "$$ m    \\geq 40 $$\n",
    "$$ m    \\leq 48 $$\n",
    "$$ a   \\geq 40 $$\n",
    "$$ a   \\leq 48 $$\n",
    "$$ r   \\geq 40 $$\n",
    "$$ r   \\leq 48 $$\n",
    "$$ 5.95 t_1 + 5.95 t_2 + 5.95 t_3 = 675.9 $$\n"
   ]
  },
  {
   "cell_type": "code",
   "execution_count": 714,
   "id": "0f489327-ca75-4a60-bd06-931f4f9ea40c",
   "metadata": {},
   "outputs": [
    {
     "name": "stdout",
     "output_type": "stream",
     "text": [
      "La solución de la optimización es: \n",
      "        message: Optimization terminated successfully. (HiGHS Status 7: Optimal)\n",
      "        success: True\n",
      "         status: 0\n",
      "            fun: 711732.1932773109\n",
      "              x: [ 6.000e+01  5.260e+01  1.000e+00  4.000e+01  4.000e+01\n",
      "                   4.000e+01]\n",
      "            nit: 0\n",
      "          lower:  residual: [ 6.000e+01  5.260e+01  1.000e+00  4.000e+01\n",
      "                              4.000e+01  4.000e+01]\n",
      "                 marginals: [ 0.000e+00  0.000e+00  0.000e+00  0.000e+00\n",
      "                              0.000e+00  0.000e+00]\n",
      "          upper:  residual: [       inf        inf        inf        inf\n",
      "                                    inf        inf]\n",
      "                 marginals: [ 0.000e+00  0.000e+00  0.000e+00  0.000e+00\n",
      "                              0.000e+00  0.000e+00]\n",
      "          eqlin:  residual: [ 0.000e+00]\n",
      "                 marginals: [ 5.403e+02]\n",
      "        ineqlin:  residual: [ 0.000e+00  1.000e+01  2.597e+00  2.240e+01\n",
      "                              0.000e+00  0.000e+00  8.000e+00  0.000e+00\n",
      "                              8.000e+00  0.000e+00  8.000e+00]\n",
      "                 marginals: [-5.185e+03 -0.000e+00 -0.000e+00 -0.000e+00\n",
      "                             -7.019e+03 -1.100e+02 -0.000e+00 -1.000e+02\n",
      "                             -0.000e+00 -5.000e+02 -0.000e+00]\n",
      " mip_node_count: 0\n",
      " mip_dual_bound: 0.0\n",
      "        mip_gap: 0.0\n"
     ]
    }
   ],
   "source": [
    "import numpy as np\n",
    "from scipy.optimize import linprog\n",
    "\n",
    "p1= 8400 #costo tubo 1\n",
    "p2= 3215 #costo tubo 2\n",
    "p3= 10234 #costo tubo 3\n",
    "m= 110 #costo maestro por hr\n",
    "a= 50 #costo ayudante por hr\n",
    "r= 500 #costo retro por hr\n",
    "\n",
    "#Funcion costo\n",
    "c = np.array([p1, p2, p3, m, 2*a, r ])\n",
    "              \n",
    "#restricciones desigualdad\n",
    "A_ub = [\n",
    "    [  -1,   0,    0,   0,   0,    0], \n",
    "    [   1,   0,    0,   0,   0,    0],  \n",
    "    [   0,  -1,    0,   0,   0,    0], \n",
    "    [   0,   1,    0,   0,   0,    0],  \n",
    "    [   0,   0,   -1,   0,   0,    0],   \n",
    "    [   0,   0,    0,  -1,   0,    0], \n",
    "    [   0,   0,    0,   1,   0,    0],  \n",
    "    [   0,   0,    0,   0,  -1,    0], \n",
    "    [   0,   0,    0,   0,   1,    0],  \n",
    "    [   0,   0,    0,   0,   0,   -1],\n",
    "    [   0,   0,    0,   0,   0,    1]   \n",
    "]\n",
    "\n",
    "b_ub = [-60, 70, -50, 75, -1, -40, 48, -40, 48, -40, 48]\n",
    "\n",
    "\n",
    "\n",
    "# Restricciones de igualdad \n",
    "A_eq = [[5.95, \n",
    "         5.95,\n",
    "         5.95, \n",
    "         0, \n",
    "         0, \n",
    "         0]] \n",
    "tmax = [675.9]\n",
    "\n",
    "# Resolución \n",
    "res = linprog (c, A_ub = A_ub, b_ub = b_ub, A_eq = A_eq, b_eq = b_eq, method='highs')\n",
    "\n",
    "# Mostrar resultados\n",
    "if res.success:\n",
    "    print(f\"La solución de la optimización es: \\n{res}\")"
   ]
  },
  {
   "cell_type": "code",
   "execution_count": 716,
   "id": "49af07a9-5573-418e-8b3e-87f0b10bcabf",
   "metadata": {},
   "outputs": [
    {
     "data": {
      "image/png": "[encoded data removed]",
      "text/plain": [
       "<Figure size 640x480 with 1 Axes>"
      ]
     },
     "metadata": {},
     "output_type": "display_data"
    }
   ],
   "source": [
    "import matplotlib.pyplot as plt\n",
    "\n",
    "#Mostrar los tubos comprados\n",
    "proveedores = [\"Termoplus:\", \"DepotMx:\", \"ITSA:\" ]\n",
    "\n",
    "tubos = res.x[:3]\n",
    "\n",
    "plt.figure()\n",
    "plt.bar(proveedores, tubos, color=[\"g\", \"r\", \"b\"])\n",
    "plt.title(\"Tubos comprados a los distintos proveedores\")\n",
    "plt.xlabel(\"Proveedor\")\n",
    "plt.ylabel(\"Cantidad de tubos\")\n",
    "plt.show()\n"
   ]
  },
  {
   "cell_type": "code",
   "execution_count": 718,
   "id": "1c16bdf2-460a-4c14-8f17-d0f64931d719",
   "metadata": {},
   "outputs": [
    {
     "data": {
      "image/png": "[encoded data removed]",
      "text/plain": [
       "<Figure size 640x480 with 1 Axes>"
      ]
     },
     "metadata": {},
     "output_type": "display_data"
    }
   ],
   "source": [
    "import matplotlib.pyplot as plt\n",
    "\n",
    "#Mostrar las horas que trabajaron\n",
    "trabajadores = [\"Maestro:\", \"Ayudante:\" ]\n",
    "\n",
    "hm = res.x[3]\n",
    "ha = res.x[4]/2  #Se divide entre 2 ya que son 2 ayudantes y para sacar las horas de cada uno\n",
    "\n",
    "plt.figure()\n",
    "plt.bar([\"Maestro\",\"Ayudantes\"], [hm, ha], color=[\"g\", \"r\"])\n",
    "plt.title(\"Repartición de horas\")\n",
    "plt.xlabel(\"Trabajador\")\n",
    "plt.ylabel(\"Horas\")\n",
    "plt.show()"
   ]
  },
  {
   "cell_type": "markdown",
   "id": "a947f1da-1880-41b0-8754-9505685fd889",
   "metadata": {},
   "source": [
    "### Bibliografía\n",
    "\n",
    "Medina F, (2024), Fraccionamiento en AutoCAD (729.14 KB) | Bibliocad https://www.bibliocad.com/es/biblioteca/fraccionamiento_49634/#google_vignette\n",
    "\n",
    "PUC (2023, 20 septiembre). Precio unitario de colocación de 【 Tubería de PVC 】. Precios Unitarios de Construcción. https://preciosunitariosconstruccion.com/obra-civil/tuberia-pvc/#:~:text=El%20precio%20unitario%20de%20instalaci%C3%B3n%20de%20tuber%C3%ADa%20de%20PVC%20por\n",
    "\n",
    "Rotoplas. (2020). Guía completa sobre los diámetros de tubería hidráulica: ¿Cómo elegir el tamaño adecuado para tu proyecto? Rotoplas.com.mx. Recuperado 25 de septiembre de 2024, de https://rotoplas.com.mx/guia-completa-sobre-los-diametros-de-tuberia-hidraulica-como-elegir-el-tamano-adecuado-para-tu-proyecto/#:~:text=Tuboplus%20ofrece%20amplitud%20de%20opciones.%20Por%20ejemplo,%20Tuboplus%20Fortech-CT%20cuenta\n",
    "\n",
    "Termoplus (2024).  Tubo PVC orientado Clase 500 Agua potable | Cotizador online. https://termoplus.mx/cotizador/agua-potable/tubo-pvc-orientado-clase-500#:~:text=Tubo%20de%20PVC%20Orientado%20Clase%20500%20para%20presiones%2012.5,%2016,\n",
    "\n",
    "TUBO PVC HIDRÁULICO CLASE 10(145PSI) 315MM(12) 6MT. (2024). ITSAMEXICO. https://www.itsamexico.com/shop/tuh-c10-315-tubo-pvc-hidraulico-clase-10-145psi-315mm-12-6mt-11860#attr=\n",
    "\n",
    "TUBO PVC CAMP/ANILLO RD 32.5 200MM de 8″(tramo 6 mts). (2022). DepotMX. https://depotmx.com/producto/tubo-pvc-camp-anillo-rd-32-5-200mm/\n",
    "\n"
   ]
  }
 ],
 "metadata": {
  "kernelspec": {
   "display_name": "Python 3 (ipykernel)",
   "language": "python",
   "name": "python3"
  },
  "language_info": {
   "codemirror_mode": {
    "name": "ipython",
    "version": 3
   },
   "file_extension": ".py",
   "mimetype": "text/x-python",
   "name": "python",
   "nbconvert_exporter": "python",
   "pygments_lexer": "ipython3",
   "version": "3.12.4"
  }
 },
 "nbformat": 4,
 "nbformat_minor": 5
}
