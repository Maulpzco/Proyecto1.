{
 "cells": [
  {
   "cell_type": "markdown",
   "id": "a204d736-8026-422a-9204-40fc003d2fe5",
   "metadata": {},
   "source": [
    "# Proyecto 1"
   ]
  },
  {
   "cell_type": "markdown",
   "id": "dedc4beb-d00f-4fd8-90c8-60819f264228",
   "metadata": {},
   "source": [
    "##### Integrantes:\n",
    "\n",
    "##### Mauricio López Coronado\n",
    "\n",
    "##### Luis Alejandro Ledesma Mujica\n",
    "\n",
    "##### Santiago Chavarria Minakata"
   ]
  },
  {
   "cell_type": "markdown",
   "id": "7d91b0eb-a72e-406b-bcec-e4e9fcecb817",
   "metadata": {},
   "source": [
    "## Minimizar el costo de instalación de una tubería de agua potable.\n"
   ]
  },
  {
   "cell_type": "markdown",
   "id": "b8fb126f-883f-4e72-b1bb-10f640cf3ed2",
   "metadata": {},
   "source": [
    "### Objetivo general: \n",
    "- Minimizar los costos de instalación de una tubería teniendo en cuenta las nóminas de los trabajadores, costo del material y maquinaria."
   ]
  },
  {
   "cell_type": "markdown",
   "id": "3aeaea82-7c8f-4d6c-98b3-06110da7ce38",
   "metadata": {},
   "source": [
    "### Objetivos específicos:\n",
    "- Plantear la ecuación de gasto, sus variables y restricciones según el plano de la colonia planteado.\n",
    "\n",
    "- Desarrollar un código de optimización para reducir costos de instalación.\n",
    "  \n",
    "- Decidir la cantidad de personas para contratar para que el tiempo, el pago de nóminas y el desperdicio sea el menor tiempo posible."
   ]
  },
  {
   "cell_type": "markdown",
   "id": "58a1c137-884d-4795-822d-7f152ae3ea04",
   "metadata": {},
   "source": [
    "### Información del problema:\n",
    "\n",
    "Para este proyecto, se está realizando una urbanización en una colonia donde no tienen acceso al agua potable, (Rotoplas, 2020) es importante tener en cuenta que el gasto de las instalaciones de tuberías representan del 10-20% en instalaciones pequeñas y a gran escala pueden representar hasta el 40% del gasto total por lo que es importante usar la menor cantidad de tubo posible, optimizar las nóminas para pagar lo necesario en el menor tiempo posible.\n"
   ]
  },
  {
   "cell_type": "markdown",
   "id": "c6515f2e-afdc-4114-842d-8bd667c55b21",
   "metadata": {},
   "source": [
    "### Consideraciones:\n",
    "\n",
    "- Se usará el tubo de PVC, capaz de soportar una presión de 25 kg/cm2, de 100 mm de diámetro, con una longitud estándar de 5.95m.\n",
    "\n",
    "- Se tienen 3 proveedores y son los siguientes:\n",
    "\n",
    "- Termo plus - 8,400 pesos cada tubo, para aceptar la orden se deben pedir entre 60 y 70 tubos, esta es la cantidad válida para transportar por carretera los tubos, al exceder esta cantidad, debido a que el almacen se encuentra en Puebla, ya no es rentable debido al alto incremento de costos de transporte.\n",
    "\n",
    "- DepotMX - 10,396 pesos cada tubo, puede suministrar la cantidad que sea, tiene una promoción que se aplica si se compran mínimo 50 tubos pero máximo 75, el precio queda 3215 pesos.\n",
    "\n",
    "- ITSA - 10,234 pesos cada tubo y este es capaz de suministrar los tubos que sean necesarios.\n",
    "\n",
    "- Longitud total a usar 675.9 m., se tiene que considerar un 5% de desperdicio.\n",
    "\n",
    "- Del sistema de precios unitarios en México, se obtiene lo siguiente: \n",
    "\n",
    "- Para un maestro, el precio de mano de obra es de 110 pesos por hora, \n",
    "\n",
    "- Para un ayudante, el precio de mano de obra es de 50 pesos por hora.\n",
    "\n",
    "- Se debe rentar una retroexcavadora, con base en un presupuesto obtenido a la constructora AB e Industrias LOSAL, la renta de una retroexcavadora CASE,  se encuentra a 500 por hora, esto ya incluye el operador.\n",
    "  \n",
    "- El tiempo límite para terminar el proyecto según el contratista es de 2 meses.\n",
    "\n",
    "- En un mes, en promedio hay 22 días laborales\n",
    "\n",
    "- A la semana el mínimo de horas es de 40, el máximo de 48.\n",
    "\n",
    "- Según AB construye, en promedio instalar una línea de tubería de 700 m es de 20 días."
   ]
  },
  {
   "cell_type": "markdown",
   "id": "6f67d600-a5de-4136-989f-77744854b65b",
   "metadata": {},
   "source": [
    "### Resumen:\n",
    "\n",
    "Proveedor 1 - $ 8400 y mínimo 60, máximo 70 tubos.\n",
    "\n",
    "Proveedor 2 - $ 3215 y minimo 50 tubos, máximo 75.\n",
    "\n",
    "Proveedor 3 - $ 10,234, mayor a 0\n",
    "\n",
    "Longitud total - 675.9 m --- con desperdicio 709.695\n",
    "\n",
    "Maestro - 110 pesos por hora.\n",
    "\n",
    "Ayudante - 50 pesos por hora.\n",
    "\n",
    "2 ayudantes, un maestro y una excavadora.\n",
    "\n",
    "Retroexcavadora 500 por hora.\n",
    "\n",
    "A la semana mínimo 40 horas, máximo 48 cada uno.\n",
    "\n",
    "Desperdicio margen del 5%\n",
    "\n",
    "Una instalación de 700 metros de tubo en un caso ideal es de 20 días."
   ]
  },
  {
   "cell_type": "markdown",
   "id": "6c343491-3245-4fb2-808b-a7f6be9e5e4b",
   "metadata": {},
   "source": [
    "### Modelo:\n",
    "El problema planteado es una optimización y con esta se busca minimizar el costo total de la instalación de la tubería, incluyendo nóminas, costos de instalación y materiales."
   ]
  },
  {
   "cell_type": "markdown",
   "id": "047b416b-db84-45fa-9b01-638cb5ab1c25",
   "metadata": {},
   "source": [
    "### Variables de control:\n",
    "\n",
    "$ m $ --  maestros\n",
    "\n",
    "$ a $--  ayudantes\n",
    "\n",
    "$ t_1 $ -- tubo de proveedor 1\n",
    "\n",
    "$ t_2$ -- tubo de proveedor 2\n",
    "\n",
    "$ t_2$ -- tubo de proveedor 3\n",
    "\n",
    "$ r $ -- retroexcavadora"
   ]
  },
  {
   "cell_type": "markdown",
   "id": "5ef90b4e-3f6c-45f2-91dd-ced782d0c26b",
   "metadata": {},
   "source": [
    "### Función de costo \n",
    "\n",
    "$ f(m, a, t_1, t_2, t_3, r) = 110 m +  50 a + 8400 t_1 + 3215 t_2 + 10234 t_3 + 500 r $\n",
    "\n",
    "\n",
    "costo total = costo de materiales + costo de nómina + costo de renta de equipo o maquinaria "
   ]
  },
  {
   "cell_type": "markdown",
   "id": "64216dba-5029-45a4-b22f-8e26674b53a7",
   "metadata": {},
   "source": [
    "Se tienen las siguientes suposiciones:\n",
    "\n",
    "Sit num1 -- con restricción de que tiempo mínimo es 15, sin desperdicio\n",
    "\n",
    "Sit num2 -- con restricción de 25 días, 5% de desperdicio\n",
    "\n",
    "Sit num3 -- con restricción de 35 días, 15% de desperdicio, con una multa del 10% del costo total de la obra."
   ]
  },
  {
   "cell_type": "markdown",
   "id": "ff1f15b4-2929-4c0c-88f5-c46e1042cd0a",
   "metadata": {},
   "source": [
    "### Restricciones\n",
    "\n",
    "Longitud de la tubería:\n",
    "\n",
    "Sit 1 - suma 3 proveedores minimo 675.9 -- sin desperdicio  \n",
    "\n",
    "Sit 2 - suma 3 proveedores minimo 675.9 -- con desperdicio  709.695\n",
    "\n",
    "Sit 3 - suma 3 proveedores minimo 675.9 -- con desperdicio  777.285\n",
    "\n",
    "\n",
    "Horas trabajadas:\n",
    "\n",
    "Sit 1 - terminado en 15 días laborales, 120 horas totales\n",
    "\n",
    "Sit 2 - terminado en 25 días laborales, 200 horas totales\n",
    "\n",
    "Sit 3 - terminado en 35 días laborales, 280 horas totales.\n",
    "\n",
    "proveedor 1 \n",
    "minimo 40 tubos\n",
    "maximo 70\n",
    "\n",
    "proveedor 2\n",
    "mínimo 50 tubos\n",
    "maximo 75\n",
    "\n",
    "proveedor 3\n",
    "minimo 1 tubo\n",
    "\n"
   ]
  },
  {
   "cell_type": "markdown",
   "id": "acb72d9d-a436-4b21-83ac-e0e042cdabf8",
   "metadata": {},
   "source": [
    "# Para situación 1"
   ]
  },
  {
   "cell_type": "markdown",
   "id": "6ca7dd8e-9323-4178-abd6-204bd1154c1e",
   "metadata": {},
   "source": [
    "### Tubos"
   ]
  },
  {
   "cell_type": "markdown",
   "id": "1fcc94a2-4eae-4a93-9430-62279c04e9dc",
   "metadata": {},
   "source": [
    "$$ \\min_{m, a, t_1, t_2, t_3, r} =  8400 t_1 + 3215 t_2 + 10234 t_3 $$\n",
    "$$ s.t $$\n",
    "\n",
    "$$ t_1 \\geq 50 $$\n",
    "$$ t_1 \\leq 70 $$\n",
    "$$ t_2 \\geq 50 $$\n",
    "$$ t_2 \\leq 75 $$\n",
    "$$ t_3 \\geq 0 $$\n",
    "$$ 5.95 t_1 + 5.95 t_2 + 5.95 t_3 \\geq 675.9 $$\n",
    "\n"
   ]
  },
  {
   "cell_type": "code",
   "execution_count": 181,
   "id": "15d23f5a-31fd-470a-9bb8-7dd357e508ae",
   "metadata": {},
   "outputs": [
    {
     "data": {
      "text/plain": [
       "        message: Optimization terminated successfully. (HiGHS Status 7: Optimal)\n",
       "        success: True\n",
       "         status: 0\n",
       "            fun: 625760.0\n",
       "              x: [ 5.000e+01  6.400e+01  0.000e+00]\n",
       "            nit: -1\n",
       "          lower:  residual: [ 5.000e+01  6.400e+01  0.000e+00]\n",
       "                 marginals: [ 0.000e+00  0.000e+00  0.000e+00]\n",
       "          upper:  residual: [       inf        inf        inf]\n",
       "                 marginals: [ 0.000e+00  0.000e+00  0.000e+00]\n",
       "          eqlin:  residual: []\n",
       "                 marginals: []\n",
       "        ineqlin:  residual: [ 0.000e+00  2.000e+01  1.400e+01  1.100e+01\n",
       "                              0.000e+00  2.400e+00]\n",
       "                 marginals: [ 0.000e+00  0.000e+00  0.000e+00  0.000e+00\n",
       "                              0.000e+00  0.000e+00]\n",
       " mip_node_count: 1\n",
       " mip_dual_bound: 625760.0\n",
       "        mip_gap: 0.0"
      ]
     },
     "execution_count": 181,
     "metadata": {},
     "output_type": "execute_result"
    }
   ],
   "source": [
    "import numpy as np\n",
    "from scipy.optimize import linprog\n",
    "#8400 - costo tubo 1\n",
    "#3215 - costo tubo 2\n",
    "#10234 costo tubo 3\n",
    "\n",
    "\n",
    "#Funcion costo\n",
    "c = np.array([\n",
    "    8400, \n",
    "    3215, \n",
    "    10234\n",
    "])\n",
    "\n",
    "#restricciones desigualdad\n",
    "a_ub = ([\n",
    "    [    -1,     0,      0], \n",
    "    [     1,     0,      0],  \n",
    "    [     0,    -1,      0], \n",
    "    [     0,     1,      0],  \n",
    "    [     0,     0,     -1],   \n",
    "    [ -5.95, -5.95,  -5.95]   \n",
    "])\n",
    "\n",
    "b_ub =([\n",
    "    -50, \n",
    "    70, \n",
    "    -50, \n",
    "    75, \n",
    "    -0, \n",
    "    -675.9])\n",
    "\n",
    "import scipy.optimize as opt\n",
    "sol = opt.linprog(c, a_ub, b_ub, integrality = 1)\n",
    "sol"
   ]
  },
  {
   "cell_type": "code",
   "execution_count": 183,
   "id": "ad469c8c-43d6-46b2-8d70-0eaaaedf86ab",
   "metadata": {},
   "outputs": [
    {
     "data": {
      "text/plain": [
       "625760.0"
      ]
     },
     "execution_count": 183,
     "metadata": {},
     "output_type": "execute_result"
    }
   ],
   "source": [
    "costototal1 =sol.fun\n",
    "costototal1"
   ]
  },
  {
   "cell_type": "markdown",
   "id": "633d4c14-5e87-4fda-86f5-7b69fc5c4159",
   "metadata": {},
   "source": [
    "### Trabajadores"
   ]
  },
  {
   "cell_type": "markdown",
   "id": "646f462a-46b6-452a-8eaa-f5845d5c0da1",
   "metadata": {},
   "source": [
    "maestros -- trabajan 40 horas a la semana   -- 8 hrs por día\n",
    "\n",
    "ayudantes -- trabajan 40 horas a la semana  -- 8 hrs por día\n",
    "\n",
    "Se deben tardar en completar el proyecto: \n",
    "\n",
    "en mínimo 120 horas totales completar 675.9 m\n",
    "\n",
    "maestros -- 6 metros en 1 hora\n",
    "\n",
    "ayudantes -- 2 metros en 1 hora\n",
    "\n",
    "retro 1 fija 40 hrs semana.\n",
    "\n",
    "\n"
   ]
  },
  {
   "cell_type": "markdown",
   "id": "42a9aa60-969e-407d-8e4c-ae0f017cda1b",
   "metadata": {},
   "source": [
    "$$ \\min_{m, a} = 110*120 m + 50*120 a + 500(40)  $$\n",
    "\n",
    "$$ s.t $$\n",
    "\n",
    "\n",
    "\n",
    "el total de lo que deben hacer\n",
    "$$ 6 \\frac{metros}{maestro*hora} m + 2\\frac{metros}{ayudante*hora} a \\geq \\frac{675.9 metros}{120 horas}$$\n",
    "\n",
    "$$ 2m \\leq a $$\n",
    "\n",
    "no pueden haber maestros o ayudantes negativos\n",
    "$$ m  \\geq 1 $$\n",
    "\n",
    "$$ a \\geq 0 $$\n",
    "\n",
    "\n",
    "\n",
    "\n"
   ]
  },
  {
   "cell_type": "code",
   "execution_count": 185,
   "id": "4c1c3b2d-32a2-404e-ad98-928497013914",
   "metadata": {},
   "outputs": [
    {
     "data": {
      "text/plain": [
       "        message: Optimization terminated successfully. (HiGHS Status 7: Optimal)\n",
       "        success: True\n",
       "         status: 0\n",
       "            fun: 25200.0\n",
       "              x: [ 1.000e+00  2.000e+00]\n",
       "            nit: -1\n",
       "          lower:  residual: [ 1.000e+00  2.000e+00]\n",
       "                 marginals: [ 0.000e+00  0.000e+00]\n",
       "          upper:  residual: [       inf        inf]\n",
       "                 marginals: [ 0.000e+00  0.000e+00]\n",
       "          eqlin:  residual: []\n",
       "                 marginals: []\n",
       "        ineqlin:  residual: [ 4.368e+00  0.000e+00  0.000e+00]\n",
       "                 marginals: [ 0.000e+00  0.000e+00  0.000e+00]\n",
       " mip_node_count: 0\n",
       " mip_dual_bound: 25200.0\n",
       "        mip_gap: 0.0"
      ]
     },
     "execution_count": 185,
     "metadata": {},
     "output_type": "execute_result"
    }
   ],
   "source": [
    "import numpy as np\n",
    "from scipy.optimize import linprog\n",
    "\n",
    "\n",
    "\n",
    "#Funcion costo\n",
    "c = np.array([\n",
    "    110*120, \n",
    "    50*120\n",
    "])\n",
    "\n",
    "#restricciones desigualdad\n",
    "a_ub = ([  \n",
    "    [    -6,    -2], \n",
    "    [     2,    -1],\n",
    "    [     -1,     0]\n",
    "])\n",
    "\n",
    "b_ub =([\n",
    "    -675.9/120, \n",
    "     0,\n",
    "    -1\n",
    "])\n",
    "\n",
    "import scipy.optimize as opt\n",
    "sol1 = opt.linprog(c, a_ub, b_ub, integrality = 1)\n",
    "sol1"
   ]
  },
  {
   "cell_type": "code",
   "execution_count": 189,
   "id": "5ac6b12f-5088-4d33-b000-7933079b7970",
   "metadata": {},
   "outputs": [
    {
     "data": {
      "text/plain": [
       "25200.0"
      ]
     },
     "execution_count": 189,
     "metadata": {},
     "output_type": "execute_result"
    }
   ],
   "source": [
    "costototal2 = sol1.fun \n",
    "costototal2"
   ]
  },
  {
   "cell_type": "markdown",
   "id": "b54f3099-10c7-43ef-a179-4401d07dc4c1",
   "metadata": {},
   "source": [
    "# Costo final del proyecto en situación 1"
   ]
  },
  {
   "cell_type": "markdown",
   "id": "b21585bb-6e56-44db-9ff4-4f7ac672fc5f",
   "metadata": {},
   "source": [
    "### 650,960 pesos"
   ]
  },
  {
   "cell_type": "markdown",
   "id": "8b1a12c3-e714-417a-aaf7-f6b08b62d59c",
   "metadata": {},
   "source": [
    "## Uso de tubos"
   ]
  },
  {
   "cell_type": "code",
   "execution_count": 239,
   "id": "276b8ca0-85ba-4fc7-9947-43e450817a44",
   "metadata": {},
   "outputs": [
    {
     "data": {
      "image/png": "[encoded data removed]",
      "text/plain": [
       "<Figure size 640x480 with 1 Axes>"
      ]
     },
     "metadata": {},
     "output_type": "display_data"
    }
   ],
   "source": [
    "import matplotlib.pyplot as plt\n",
    "\n",
    "proveedores = [\"Termoplus:\", \"DepotMx:\", \"ITSA:\" ]\n",
    "tubos = [50, 64, 0]\n",
    "\n",
    "plt.figure()\n",
    "plt.bar(proveedores, tubos, color=[\"g\", \"r\", \"b\"])\n",
    "plt.title(\"Tubos comprados a los distintos proveedores\")\n",
    "plt.xlabel(\"Proveedor\")\n",
    "plt.ylabel(\"Cantidad de tubos\")\n",
    "plt.show()\n"
   ]
  },
  {
   "cell_type": "code",
   "execution_count": null,
   "id": "c3b135a4-ebda-451a-ba8c-ff43e126bac6",
   "metadata": {},
   "outputs": [],
   "source": []
  },
  {
   "cell_type": "code",
   "execution_count": null,
   "id": "d770d462-ca7f-4c90-82dd-eee904637649",
   "metadata": {},
   "outputs": [],
   "source": []
  },
  {
   "cell_type": "code",
   "execution_count": null,
   "id": "93445ac3-3490-4751-ab34-81522bd57a2e",
   "metadata": {},
   "outputs": [],
   "source": []
  },
  {
   "cell_type": "markdown",
   "id": "79850ac8-668c-4f64-b594-1994e7b41eca",
   "metadata": {},
   "source": [
    "### Misma situación, se puede decidir libremente si contratar maestros o no."
   ]
  },
  {
   "cell_type": "code",
   "execution_count": 175,
   "id": "1c4a0f4a-d2aa-403b-a035-cdf97637cf94",
   "metadata": {},
   "outputs": [
    {
     "data": {
      "text/plain": [
       "        message: Optimization terminated successfully. (HiGHS Status 7: Optimal)\n",
       "        success: True\n",
       "         status: 0\n",
       "            fun: 18000.0\n",
       "              x: [ 0.000e+00  3.000e+00]\n",
       "            nit: -1\n",
       "          lower:  residual: [ 0.000e+00  3.000e+00]\n",
       "                 marginals: [ 0.000e+00  0.000e+00]\n",
       "          upper:  residual: [       inf        inf]\n",
       "                 marginals: [ 0.000e+00  0.000e+00]\n",
       "          eqlin:  residual: []\n",
       "                 marginals: []\n",
       "        ineqlin:  residual: [ 3.675e-01  3.000e+00]\n",
       "                 marginals: [ 0.000e+00  0.000e+00]\n",
       " mip_node_count: 1\n",
       " mip_dual_bound: 18000.0\n",
       "        mip_gap: 0.0"
      ]
     },
     "execution_count": 175,
     "metadata": {},
     "output_type": "execute_result"
    }
   ],
   "source": [
    "import numpy as np\n",
    "from scipy.optimize import linprog\n",
    "\n",
    "\n",
    "\n",
    "#Funcion costo\n",
    "c = np.array([\n",
    "    110*120, \n",
    "    50*120\n",
    "])\n",
    "\n",
    "#restricciones desigualdad\n",
    "a_ub = ([  \n",
    "    [    -6,    -2], \n",
    "    [     2,    -1],\n",
    "])\n",
    "\n",
    "b_ub =([\n",
    "    -675.9/120, \n",
    "     0,\n",
    "])\n",
    "\n",
    "import scipy.optimize as opt\n",
    "opt.linprog(c, a_ub, b_ub, integrality = 1)"
   ]
  },
  {
   "cell_type": "code",
   "execution_count": null,
   "id": "35923de4-d68c-40ac-86a1-e98b9aa71c35",
   "metadata": {},
   "outputs": [],
   "source": []
  },
  {
   "cell_type": "code",
   "execution_count": null,
   "id": "0fa15d67-debb-4461-8240-d544b4f5dad7",
   "metadata": {},
   "outputs": [],
   "source": []
  },
  {
   "cell_type": "code",
   "execution_count": null,
   "id": "77777c0c-cf85-4dea-a506-0799395b8e40",
   "metadata": {},
   "outputs": [],
   "source": []
  },
  {
   "cell_type": "markdown",
   "id": "8516cb88-a382-466b-901f-c51e03f1bbff",
   "metadata": {},
   "source": [
    "# Para situación 2"
   ]
  },
  {
   "cell_type": "markdown",
   "id": "65f882b4-e564-4f16-97fb-ec88f0835b29",
   "metadata": {},
   "source": [
    "## Tubos"
   ]
  },
  {
   "cell_type": "markdown",
   "id": "9da5fb68-8cea-4cb2-80b1-fda2a6837183",
   "metadata": {},
   "source": [
    "$$ \\min_{m, a, t_1, t_2, t_3, r} =  8400 t_1 + 3215 t_2 + 10234 t_3 $$\n",
    "$$ s.t $$\n",
    "\n",
    "$$ t_1 \\geq 50 $$\n",
    "$$ t_1 \\leq 70 $$\n",
    "$$ t_2 \\geq 50 $$\n",
    "$$ t_2 \\leq 75 $$\n",
    "$$ t_3 \\geq 0 $$\n",
    "$$ 5.95 t_1 + 5.95 t_2 + 5.95 t_3 \\geq 709.695 $$"
   ]
  },
  {
   "cell_type": "code",
   "execution_count": 197,
   "id": "b644478d-4f40-42ce-892c-4debe9142299",
   "metadata": {},
   "outputs": [
    {
     "data": {
      "text/plain": [
       "        message: Optimization terminated successfully. (HiGHS Status 7: Optimal)\n",
       "        success: True\n",
       "         status: 0\n",
       "            fun: 645050.0\n",
       "              x: [ 5.000e+01  7.000e+01  0.000e+00]\n",
       "            nit: -1\n",
       "          lower:  residual: [ 5.000e+01  7.000e+01  0.000e+00]\n",
       "                 marginals: [ 0.000e+00  0.000e+00  0.000e+00]\n",
       "          upper:  residual: [       inf        inf        inf]\n",
       "                 marginals: [ 0.000e+00  0.000e+00  0.000e+00]\n",
       "          eqlin:  residual: []\n",
       "                 marginals: []\n",
       "        ineqlin:  residual: [ 0.000e+00  2.000e+01  2.000e+01  5.000e+00\n",
       "                              0.000e+00  4.305e+00]\n",
       "                 marginals: [ 0.000e+00  0.000e+00  0.000e+00  0.000e+00\n",
       "                              0.000e+00  0.000e+00]\n",
       " mip_node_count: 1\n",
       " mip_dual_bound: 645050.0\n",
       "        mip_gap: 0.0"
      ]
     },
     "execution_count": 197,
     "metadata": {},
     "output_type": "execute_result"
    }
   ],
   "source": [
    "import numpy as np\n",
    "from scipy.optimize import linprog\n",
    "#8400 - costo tubo 1\n",
    "#3215 - costo tubo 2\n",
    "#10234 costo tubo 3\n",
    "\n",
    "\n",
    "#Funcion costo\n",
    "c = np.array([\n",
    "    8400, \n",
    "    3215, \n",
    "    10234\n",
    "])\n",
    "\n",
    "#restricciones desigualdad\n",
    "a_ub = ([\n",
    "    [    -1,     0,      0], \n",
    "    [     1,     0,      0],  \n",
    "    [     0,    -1,      0], \n",
    "    [     0,     1,      0],  \n",
    "    [     0,     0,     -1],   \n",
    "    [ -5.95, -5.95,  -5.95]   \n",
    "])\n",
    "\n",
    "b_ub =([\n",
    "    -50, \n",
    "    70, \n",
    "    -50, \n",
    "    75, \n",
    "    -0, \n",
    "    -709.695])\n",
    "\n",
    "import scipy.optimize as opt\n",
    "sol3 = opt.linprog(c, a_ub, b_ub, integrality = 1)\n",
    "sol3"
   ]
  },
  {
   "cell_type": "code",
   "execution_count": 199,
   "id": "085986e2-8c97-4d95-bba1-e269a302d3c9",
   "metadata": {},
   "outputs": [
    {
     "data": {
      "text/plain": [
       "645050.0"
      ]
     },
     "execution_count": 199,
     "metadata": {},
     "output_type": "execute_result"
    }
   ],
   "source": [
    "costototal3 = sol3.fun \n",
    "costototal3"
   ]
  },
  {
   "cell_type": "markdown",
   "id": "efd0adf3-a024-4989-92bb-e43add433a90",
   "metadata": {},
   "source": [
    "## Trabajadores"
   ]
  },
  {
   "cell_type": "markdown",
   "id": "38cbc097-df0a-4267-ba09-771f4afccdbf",
   "metadata": {},
   "source": [
    "maestros -- trabajan 40 horas a la semana   -- 8 hrs por día\n",
    "\n",
    "ayudantes -- trabajan 40 horas a la semana  -- 8 hrs por día\n",
    "\n",
    "Se deben tardar en completar el proyecto: \n",
    "\n",
    "en mínimo 200 horas totales completar 709.695 m\n",
    "\n",
    "maestros -- 6 metros en 1 hora\n",
    "\n",
    "ayudantes -- 2 metros en 1 hora\n",
    "\n",
    "retro 1 fija 40 hrs semana."
   ]
  },
  {
   "cell_type": "markdown",
   "id": "c183414e-2c3d-46b3-8130-dc117b2b5278",
   "metadata": {},
   "source": [
    "$$ \\min_{m, a} = 110*120 m + 50*120 a + 500(40)  $$\n",
    "\n",
    "$$ s.t $$\n",
    "\n",
    "\n",
    "\n",
    "el total de lo que deben hacer\n",
    "$$ 6 \\frac{metros}{maestro*hora} m + 2\\frac{metros}{ayudante*hora} a \\geq \\frac{709.695 metros}{200 horas}$$\n",
    "\n",
    "$$ 2m \\leq a $$\n",
    "\n",
    "no pueden haber maestros o ayudantes negativos\n",
    "$$ m  \\geq 1 $$\n",
    "\n",
    "$$ a \\geq 0 $$\n",
    "\n"
   ]
  },
  {
   "cell_type": "code",
   "execution_count": 203,
   "id": "70aad881-d65e-447b-b69f-2165073667b3",
   "metadata": {},
   "outputs": [
    {
     "data": {
      "text/plain": [
       "        message: Optimization terminated successfully. (HiGHS Status 7: Optimal)\n",
       "        success: True\n",
       "         status: 0\n",
       "            fun: 25200.0\n",
       "              x: [ 1.000e+00  2.000e+00]\n",
       "            nit: -1\n",
       "          lower:  residual: [ 1.000e+00  2.000e+00]\n",
       "                 marginals: [ 0.000e+00  0.000e+00]\n",
       "          upper:  residual: [       inf        inf]\n",
       "                 marginals: [ 0.000e+00  0.000e+00]\n",
       "          eqlin:  residual: []\n",
       "                 marginals: []\n",
       "        ineqlin:  residual: [ 6.452e+00  0.000e+00  0.000e+00]\n",
       "                 marginals: [ 0.000e+00  0.000e+00  0.000e+00]\n",
       " mip_node_count: 0\n",
       " mip_dual_bound: 25200.0\n",
       "        mip_gap: 0.0"
      ]
     },
     "execution_count": 203,
     "metadata": {},
     "output_type": "execute_result"
    }
   ],
   "source": [
    "import numpy as np\n",
    "from scipy.optimize import linprog\n",
    "\n",
    "\n",
    "\n",
    "#Funcion costo\n",
    "c = np.array([\n",
    "    110*120, \n",
    "    50*120\n",
    "])\n",
    "\n",
    "#restricciones desigualdad\n",
    "a_ub = ([  \n",
    "    [    -6,    -2], \n",
    "    [     2,    -1],\n",
    "    [     -1,     0]\n",
    "])\n",
    "\n",
    "b_ub =([\n",
    "    -709.695/200, \n",
    "     0,\n",
    "    -1\n",
    "])\n",
    "\n",
    "import scipy.optimize as opt\n",
    "sol4 = opt.linprog(c, a_ub, b_ub, integrality = 1)\n",
    "sol4"
   ]
  },
  {
   "cell_type": "code",
   "execution_count": 211,
   "id": "39d2cf9c-7d98-43d2-ad3f-735e57323309",
   "metadata": {},
   "outputs": [
    {
     "data": {
      "text/plain": [
       "25200.0"
      ]
     },
     "execution_count": 211,
     "metadata": {},
     "output_type": "execute_result"
    }
   ],
   "source": [
    "costototal4 = sol4.fun \n",
    "costototal4"
   ]
  },
  {
   "cell_type": "markdown",
   "id": "3a3ea42b-f635-4ce0-acd0-284cbeaafe1a",
   "metadata": {},
   "source": [
    "# Costo final del proyecto en situación 2"
   ]
  },
  {
   "cell_type": "markdown",
   "id": "99deb155-000d-4fe3-979f-689e8c32d3b0",
   "metadata": {},
   "source": [
    "### 670,250 pesos"
   ]
  },
  {
   "cell_type": "markdown",
   "id": "0f9d6d02-6689-4293-9516-c3f14318e3bd",
   "metadata": {},
   "source": [
    "## Uso de tubos"
   ]
  },
  {
   "cell_type": "code",
   "execution_count": 241,
   "id": "595b4185-3ad4-4030-add4-11f290fede0d",
   "metadata": {},
   "outputs": [
    {
     "data": {
      "image/png": "[encoded data removed]",
      "text/plain": [
       "<Figure size 640x480 with 1 Axes>"
      ]
     },
     "metadata": {},
     "output_type": "display_data"
    }
   ],
   "source": [
    "import matplotlib.pyplot as plt\n",
    "\n",
    "proveedores = [\"Termoplus:\", \"DepotMx:\", \"ITSA:\" ]\n",
    "tubos = [50, 70, 0]\n",
    "\n",
    "plt.figure()\n",
    "plt.bar(proveedores, tubos, color=[\"g\", \"r\", \"b\"])\n",
    "plt.title(\"Tubos comprados a los distintos proveedores\")\n",
    "plt.xlabel(\"Proveedor\")\n",
    "plt.ylabel(\"Cantidad de tubos\")\n",
    "plt.show()"
   ]
  },
  {
   "cell_type": "code",
   "execution_count": null,
   "id": "889642c6-f5cb-4610-b861-b2bea5619e29",
   "metadata": {},
   "outputs": [],
   "source": []
  },
  {
   "cell_type": "code",
   "execution_count": null,
   "id": "c873f3b5-8835-434e-9cb0-d5fd11052405",
   "metadata": {},
   "outputs": [],
   "source": []
  },
  {
   "cell_type": "code",
   "execution_count": null,
   "id": "955c41a2-534d-4dd3-bdbe-bbcb6e5d5672",
   "metadata": {},
   "outputs": [],
   "source": []
  },
  {
   "cell_type": "markdown",
   "id": "dcae27ce-7efd-4a10-8667-5cef8d0b2c1d",
   "metadata": {},
   "source": [
    "# Para situación 3"
   ]
  },
  {
   "cell_type": "markdown",
   "id": "12784973-42fc-4572-a7bb-af6cbf9f8694",
   "metadata": {},
   "source": [
    "## Tubos"
   ]
  },
  {
   "cell_type": "markdown",
   "id": "d3943675-43bb-42b9-a404-08823a1cd155",
   "metadata": {},
   "source": [
    "$$ \\min_{m, a, t_1, t_2, t_3, r} =  8400 t_1 + 3215 t_2 + 10234 t_3 $$\n",
    "$$ s.t $$\n",
    "\n",
    "$$ t_1 \\geq 50 $$\n",
    "$$ t_1 \\leq 70 $$\n",
    "$$ t_2 \\geq 50 $$\n",
    "$$ t_2 \\leq 75 $$\n",
    "$$ t_3 \\geq 0 $$\n",
    "$$ 5.95 t_1 + 5.95 t_2 + 5.95 t_3 \\geq 777.285 $$"
   ]
  },
  {
   "cell_type": "code",
   "execution_count": 213,
   "id": "1bb406cc-b6a2-488b-b327-e7fb97008130",
   "metadata": {},
   "outputs": [
    {
     "data": {
      "text/plain": [
       "        message: Optimization terminated successfully. (HiGHS Status 7: Optimal)\n",
       "        success: True\n",
       "         status: 0\n",
       "            fun: 711525.0\n",
       "              x: [ 5.600e+01  7.500e+01  0.000e+00]\n",
       "            nit: -1\n",
       "          lower:  residual: [ 5.600e+01  7.500e+01  0.000e+00]\n",
       "                 marginals: [ 0.000e+00  0.000e+00  0.000e+00]\n",
       "          upper:  residual: [       inf        inf        inf]\n",
       "                 marginals: [ 0.000e+00  0.000e+00  0.000e+00]\n",
       "          eqlin:  residual: []\n",
       "                 marginals: []\n",
       "        ineqlin:  residual: [ 6.000e+00  1.400e+01  2.500e+01  0.000e+00\n",
       "                              0.000e+00  2.165e+00]\n",
       "                 marginals: [ 0.000e+00  0.000e+00  0.000e+00  0.000e+00\n",
       "                              0.000e+00  0.000e+00]\n",
       " mip_node_count: 1\n",
       " mip_dual_bound: 711525.0\n",
       "        mip_gap: 0.0"
      ]
     },
     "execution_count": 213,
     "metadata": {},
     "output_type": "execute_result"
    }
   ],
   "source": [
    "\n",
    "import numpy as np\n",
    "from scipy.optimize import linprog\n",
    "#8400 - costo tubo 1\n",
    "#3215 - costo tubo 2\n",
    "#10234 costo tubo 3\n",
    "\n",
    "\n",
    "#Funcion costo\n",
    "c = np.array([\n",
    "    8400, \n",
    "    3215, \n",
    "    10234\n",
    "])\n",
    "\n",
    "#restricciones desigualdad\n",
    "a_ub = ([\n",
    "    [    -1,     0,      0], \n",
    "    [     1,     0,      0],  \n",
    "    [     0,    -1,      0], \n",
    "    [     0,     1,      0],  \n",
    "    [     0,     0,     -1],   \n",
    "    [ -5.95, -5.95,  -5.95]   \n",
    "])\n",
    "\n",
    "b_ub =([\n",
    "    -50, \n",
    "    70, \n",
    "    -50, \n",
    "    75, \n",
    "    -0, \n",
    "    -777.285])\n",
    "\n",
    "import scipy.optimize as opt\n",
    "sol5 = opt.linprog(c, a_ub, b_ub, integrality = 1)\n",
    "sol5"
   ]
  },
  {
   "cell_type": "code",
   "execution_count": 215,
   "id": "7888aa41-e267-4ccf-a2f9-13f0f420fd36",
   "metadata": {},
   "outputs": [
    {
     "data": {
      "text/plain": [
       "711525.0"
      ]
     },
     "execution_count": 215,
     "metadata": {},
     "output_type": "execute_result"
    }
   ],
   "source": [
    "costototal5 = sol5.fun \n",
    "costototal5"
   ]
  },
  {
   "cell_type": "markdown",
   "id": "5f27ccd3-3692-4d22-a85f-5e821e1f22c6",
   "metadata": {},
   "source": [
    "## Trabajadores"
   ]
  },
  {
   "cell_type": "markdown",
   "id": "1c45c866-6d9d-4d0f-aef0-ff09a7dec169",
   "metadata": {},
   "source": [
    "$$ \\min_{m, a} = 110*120 m + 50*120 a + 500(40)  $$\n",
    "\n",
    "$$ s.t $$\n",
    "\n",
    "\n",
    "\n",
    "el total de lo que deben hacer\n",
    "$$ 6 \\frac{metros}{maestro*hora} m + 2\\frac{metros}{ayudante*hora} a \\geq \\frac{777.285 metros}{280 horas}$$\n",
    "\n",
    "$$ 2m \\leq a $$\n",
    "\n",
    "no pueden haber maestros o ayudantes negativos\n",
    "$$ m  \\geq 1 $$\n",
    "\n",
    "$$ a \\geq 0 $$"
   ]
  },
  {
   "cell_type": "code",
   "execution_count": 217,
   "id": "b1609f21-cbc8-47f4-a827-c32fc32a660d",
   "metadata": {},
   "outputs": [
    {
     "data": {
      "text/plain": [
       "        message: Optimization terminated successfully. (HiGHS Status 7: Optimal)\n",
       "        success: True\n",
       "         status: 0\n",
       "            fun: 25200.0\n",
       "              x: [ 1.000e+00  2.000e+00]\n",
       "            nit: -1\n",
       "          lower:  residual: [ 1.000e+00  2.000e+00]\n",
       "                 marginals: [ 0.000e+00  0.000e+00]\n",
       "          upper:  residual: [       inf        inf]\n",
       "                 marginals: [ 0.000e+00  0.000e+00]\n",
       "          eqlin:  residual: []\n",
       "                 marginals: []\n",
       "        ineqlin:  residual: [ 7.224e+00  0.000e+00  0.000e+00]\n",
       "                 marginals: [ 0.000e+00  0.000e+00  0.000e+00]\n",
       " mip_node_count: 0\n",
       " mip_dual_bound: 25200.0\n",
       "        mip_gap: 0.0"
      ]
     },
     "execution_count": 217,
     "metadata": {},
     "output_type": "execute_result"
    }
   ],
   "source": [
    "import numpy as np\n",
    "from scipy.optimize import linprog\n",
    "\n",
    "\n",
    "\n",
    "#Funcion costo\n",
    "c = np.array([\n",
    "    110*120, \n",
    "    50*120\n",
    "])\n",
    "\n",
    "#restricciones desigualdad\n",
    "a_ub = ([  \n",
    "    [    -6,    -2], \n",
    "    [     2,    -1],\n",
    "    [     -1,     0]\n",
    "])\n",
    "\n",
    "b_ub =([\n",
    "    -777.285/280, \n",
    "     0,\n",
    "    -1\n",
    "])\n",
    "\n",
    "import scipy.optimize as opt\n",
    "sol6 = opt.linprog(c, a_ub, b_ub, integrality = 1)\n",
    "sol6"
   ]
  },
  {
   "cell_type": "code",
   "execution_count": 219,
   "id": "770b9ad5-735f-42d6-9a68-a9af371e6b04",
   "metadata": {},
   "outputs": [
    {
     "data": {
      "text/plain": [
       "25200.0"
      ]
     },
     "execution_count": 219,
     "metadata": {},
     "output_type": "execute_result"
    }
   ],
   "source": [
    "costototal6 = sol6.fun \n",
    "costototal6"
   ]
  },
  {
   "cell_type": "markdown",
   "id": "569b680b-5d37-4c7e-a1ed-e8c10cfc9746",
   "metadata": {},
   "source": [
    "# Costo final del proyecto en situación 3"
   ]
  },
  {
   "cell_type": "markdown",
   "id": "ad56f2c2-971d-49f6-baae-81b5c61a664f",
   "metadata": {},
   "source": [
    "### 736,725 pesos"
   ]
  },
  {
   "cell_type": "markdown",
   "id": "1a236147-eda9-47df-a51e-fe158764faca",
   "metadata": {},
   "source": [
    "## Uso de tubos"
   ]
  },
  {
   "cell_type": "code",
   "execution_count": 245,
   "id": "0de5af7f-7b2c-4fd3-891b-ecd7731b5b2d",
   "metadata": {},
   "outputs": [
    {
     "data": {
      "image/png": "[encoded data removed]",
      "text/plain": [
       "<Figure size 640x480 with 1 Axes>"
      ]
     },
     "metadata": {},
     "output_type": "display_data"
    }
   ],
   "source": [
    "import matplotlib.pyplot as plt\n",
    "\n",
    "proveedores = [\"Termoplus:\", \"DepotMx:\", \"ITSA:\" ]\n",
    "tubos = [56, 75, 0]\n",
    "\n",
    "plt.figure()\n",
    "plt.bar(proveedores, tubos, color=[\"g\", \"r\", \"b\"])\n",
    "plt.title(\"Tubos comprados a los distintos proveedores\")\n",
    "plt.xlabel(\"Proveedor\")\n",
    "plt.ylabel(\"Cantidad de tubos\")\n",
    "plt.show()"
   ]
  },
  {
   "cell_type": "code",
   "execution_count": null,
   "id": "f2f809fc-fb19-4b9e-b768-e7cf9f66b5cc",
   "metadata": {},
   "outputs": [],
   "source": []
  },
  {
   "cell_type": "markdown",
   "id": "de3f6ea0-6a8d-4aba-a9d8-023fc9bc6efa",
   "metadata": {},
   "source": [
    "# Gráficas comparativas de las 3 situaciones"
   ]
  },
  {
   "cell_type": "code",
   "execution_count": 233,
   "id": "c543edab-7881-4da7-9245-2c8a4b6d5311",
   "metadata": {},
   "outputs": [
    {
     "data": {
      "image/png": "[encoded data removed]",
      "text/plain": [
       "<Figure size 640x480 with 1 Axes>"
      ]
     },
     "metadata": {},
     "output_type": "display_data"
    }
   ],
   "source": [
    "import matplotlib.pyplot as plt\n",
    "import numpy as np\n",
    "\n",
    "situaciones = ['Sit 1', 'Sit 2', 'Sit 3']\n",
    "costo = [650960, 670250, 736725]\n",
    "plt.bar(situaciones, costo, color=[\"g\", \"r\", \"b\"])\n",
    "plt.title(\"Costos totales\")\n",
    "plt.xlabel(\"Situaciones\")\n",
    "plt.ylabel(\"Costo\")\n",
    "plt.show()"
   ]
  },
  {
   "cell_type": "markdown",
   "id": "620de972-d140-4fe5-9d21-b5e5e5832def",
   "metadata": {},
   "source": [
    "## Conclusiones"
   ]
  },
  {
   "cell_type": "markdown",
   "id": "f31293c3-c819-44c6-b9c8-827a53d0e6d5",
   "metadata": {},
   "source": [
    "De la optimización, podemos ver que fue logrado el propósito ya que la cantidad de tubos fue la menor respecto a las restricciones de los distintos proveedores, en las 3 situaciones se disminuyó el uso de tubos.\n",
    "\n",
    "Respecto a las nóminas, queda muy condicionado ya que para una obra es necesario que haya un maestro, por lo que en las tres situaciones se obtiene que se necesitan 2 ayudantes y un maestro.\n",
    "\n",
    "Se elaboró otra prueba sin la restricción del maestro, y se obtuvo que se necesitan 3 ayudantes, esto disminuye considerablemente el costo de la mano de obra pero no es posible aceptar esta situción.\n",
    "\n",
    "Se logró ver como cambia el presupuesto en las tres situaciones, en la ideal, en la que tiene un pequeño problema y en la peor.\n",
    "\n",
    "Podemos ver que los objetivos se cumplieron ya que al compararse uno con otro los resultados si cambian y en el mejor caso el costo es menor."
   ]
  },
  {
   "cell_type": "markdown",
   "id": "45bead67-9ed5-4659-a1db-987824eee7e2",
   "metadata": {},
   "source": [
    "### Bibliografía\n",
    "\n",
    "Medina F, (2024), Fraccionamiento en AutoCAD (729.14 KB) | Bibliocad https://www.bibliocad.com/es/biblioteca/fraccionamiento_49634/#google_vignette\n",
    "\n",
    "PUC (2023, 20 septiembre). Precio unitario de colocación de 【 Tubería de PVC 】. Precios Unitarios de Construcción. https://preciosunitariosconstruccion.com/obra-civil/tuberia-pvc/#:~:text=El%20precio%20unitario%20de%20instalaci%C3%B3n%20de%20tuber%C3%ADa%20de%20PVC%20por\n",
    "\n",
    "Rotoplas. (2020). Guía completa sobre los diámetros de tubería hidráulica: ¿Cómo elegir el tamaño adecuado para tu proyecto? Rotoplas.com.mx. Recuperado 25 de septiembre de 2024, de https://rotoplas.com.mx/guia-completa-sobre-los-diametros-de-tuberia-hidraulica-como-elegir-el-tamano-adecuado-para-tu-proyecto/#:~:text=Tuboplus%20ofrece%20amplitud%20de%20opciones.%20Por%20ejemplo,%20Tuboplus%20Fortech-CT%20cuenta\n",
    "\n",
    "Termoplus (2024).  Tubo PVC orientado Clase 500 Agua potable | Cotizador online. https://termoplus.mx/cotizador/agua-potable/tubo-pvc-orientado-clase-500#:~:text=Tubo%20de%20PVC%20Orientado%20Clase%20500%20para%20presiones%2012.5,%2016,\n",
    "\n",
    "TUBO PVC HIDRÁULICO CLASE 10(145PSI) 315MM(12) 6MT. (2024). ITSAMEXICO. https://www.itsamexico.com/shop/tuh-c10-315-tubo-pvc-hidraulico-clase-10-145psi-315mm-12-6mt-11860#attr=\n",
    "\n",
    "TUBO PVC CAMP/ANILLO RD 32.5 200MM de 8″(tramo 6 mts). (2022). DepotMX. https://depotmx.com/producto/tubo-pvc-camp-anillo-rd-32-5-200mm/\n",
    "\n",
    "Barrientos A, (2024) AB Construye.\n",
    "\n",
    "López F, (2024) Industrias Losal.\n",
    "\n"
   ]
  },
  {
   "cell_type": "code",
   "execution_count": null,
   "id": "806f5fc7-8c38-4bf8-b48a-136c5b42494a",
   "metadata": {},
   "outputs": [],
   "source": []
  }
 ],
 "metadata": {
  "kernelspec": {
   "display_name": "Python 3 (ipykernel)",
   "language": "python",
   "name": "python3"
  },
  "language_info": {
   "codemirror_mode": {
    "name": "ipython",
    "version": 3
   },
   "file_extension": ".py",
   "mimetype": "text/x-python",
   "name": "python",
   "nbconvert_exporter": "python",
   "pygments_lexer": "ipython3",
   "version": "3.12.4"
  }
 },
 "nbformat": 4,
 "nbformat_minor": 5
}
